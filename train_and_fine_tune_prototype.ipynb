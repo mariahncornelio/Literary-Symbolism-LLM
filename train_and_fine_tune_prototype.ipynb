{
 "cells": [
  {
   "cell_type": "markdown",
   "id": "63fdc691-31ec-4c86-82e1-f535cbedca7c",
   "metadata": {},
   "source": [
    "# **Pipeline to Pre-Tune GPT-3.5-Turbo**"
   ]
  },
  {
   "cell_type": "markdown",
   "id": "91f369fb-0536-4718-842f-aa7780a1de6d",
   "metadata": {},
   "source": [
    "To pretune our data, we will use OpenAI's GPT-3.5-Turbo model. To do that, we need to convert the .csv file (ocpoem_final_with_themes.csv) into a JSON file and then train/fine-tune our model with that. "
   ]
  },
  {
   "cell_type": "markdown",
   "id": "b4e52565-9ec3-4cce-955e-1ec0ad3dd658",
   "metadata": {},
   "source": [
    "But before doing so, there is a line I found when looking at the final dataset that posed a little bit of a concern. Line 311 was actually not a poem (it was an advertisement) and our labeling model (GPT-4.1-Mini) did a good job with catching that. This means that no themes were output for this line so we will filter it out because it may confuse our model during training."
   ]
  },
  {
   "cell_type": "markdown",
   "id": "f3a02f0c-39eb-4579-a844-e8a2aa641dcf",
   "metadata": {},
   "source": [
    "**Import dependencies**"
   ]
  },
  {
   "cell_type": "code",
   "execution_count": 29,
   "id": "db8ca4d5-69d9-4473-bd0f-a74b59e5bfd0",
   "metadata": {},
   "outputs": [],
   "source": [
    "import pandas as pd\n",
    "import json\n",
    "import openai"
   ]
  },
  {
   "cell_type": "code",
   "execution_count": 13,
   "id": "b21ae91f-7681-476a-9a04-40fc635b898e",
   "metadata": {},
   "outputs": [],
   "source": [
    "df = pd.read_csv(\"C:/Users/Marielle/OneDrive/Desktop/LLM Project/ocpoem_final_with_themes.csv\")"
   ]
  },
  {
   "cell_type": "markdown",
   "id": "0e65940c-41ff-4f7a-9e12-63a80d1ece14",
   "metadata": {},
   "source": [
    "**Filter out bad line**"
   ]
  },
  {
   "cell_type": "code",
   "execution_count": 14,
   "id": "c23486fa-294f-4879-bc64-c408057a64cb",
   "metadata": {},
   "outputs": [
    {
     "data": {
      "text/plain": [
       "(980, 2)"
      ]
     },
     "execution_count": 14,
     "metadata": {},
     "output_type": "execute_result"
    }
   ],
   "source": [
    "df.shape"
   ]
  },
  {
   "cell_type": "code",
   "execution_count": 24,
   "id": "2f4123a1-c65c-4fc9-a1cb-0dd058e4c701",
   "metadata": {},
   "outputs": [
    {
     "name": "stdout",
     "output_type": "stream",
     "text": [
      "Row 311 before dropping:\n",
      " cleaned    greetings, reddit.com at tay bridge press, we ...\n",
      "themes                                                    []\n",
      "Name: 309, dtype: object\n"
     ]
    }
   ],
   "source": [
    "# Print the row you want to drop (optional check)\n",
    "print(\"Row 311 before dropping:\\n\", df.iloc[309])"
   ]
  },
  {
   "cell_type": "code",
   "execution_count": 25,
   "id": "c6e450af-168a-444b-bb97-c178c27facae",
   "metadata": {},
   "outputs": [],
   "source": [
    "# Drop row 311 (index 309)\n",
    "df_cleaned = df.drop(index=309).reset_index(drop=True)\n",
    "\n",
    "# Save to a new CSV file\n",
    "df_cleaned.to_csv(\"C:/Users/Marielle/OneDrive/Desktop/LLM Project/ocpoem_final_with_themes_cleaned.csv\", index=False)"
   ]
  },
  {
   "cell_type": "code",
   "execution_count": 26,
   "id": "a0c9c4dc-4a85-4b53-a350-1cf18e4c8e9e",
   "metadata": {},
   "outputs": [
    {
     "data": {
      "text/plain": [
       "(979, 2)"
      ]
     },
     "execution_count": 26,
     "metadata": {},
     "output_type": "execute_result"
    }
   ],
   "source": [
    "df_cleaned.shape"
   ]
  },
  {
   "cell_type": "markdown",
   "id": "4f0c1a2e-4bf0-459c-9f5b-47674afe33c4",
   "metadata": {},
   "source": [
    "**Preparing the fine-tune data: turn .csv into a JSON file**"
   ]
  },
  {
   "cell_type": "code",
   "execution_count": null,
   "id": "0f02c9ce-af86-4c38-a0c9-15271a10f7ab",
   "metadata": {},
   "outputs": [],
   "source": [
    "df = pd.read_csv(\"C:/Users/Marielle/OneDrive/Desktop/LLM Project/ocpoem_final_with_themes_cleaned.csv\")"
   ]
  },
  {
   "cell_type": "code",
   "execution_count": 28,
   "id": "971b0470-1a4f-4704-9770-bab780919306",
   "metadata": {},
   "outputs": [
    {
     "name": "stdout",
     "output_type": "stream",
     "text": [
      "Fine-tuning file saved: ocpoem_finetune_data.jsonl\n"
     ]
    }
   ],
   "source": [
    "fine_tune_data = []\n",
    "\n",
    "for _, row in df.iterrows():\n",
    "    if not row['themes'] or row['themes'] == '[]':\n",
    "        continue  # skip empty or broken rows\n",
    "\n",
    "    try:\n",
    "        # Convert string list to actual Python list (if necessary)\n",
    "        themes_list = eval(row['themes']) if isinstance(row['themes'], str) else row['themes']\n",
    "    except Exception:\n",
    "        continue\n",
    "\n",
    "    fine_tune_data.append({\n",
    "        \"messages\": [\n",
    "            {\"role\": \"user\", \"content\": row[\"cleaned\"]},\n",
    "            {\"role\": \"assistant\", \"content\": json.dumps(themes_list)}  # keep it as stringified list\n",
    "        ]\n",
    "    })\n",
    "\n",
    "# Save as JSONL\n",
    "with open(\"ocpoem_finetune_data.jsonl\", \"w\", encoding=\"utf-8\") as f:\n",
    "    for item in fine_tune_data:\n",
    "        f.write(json.dumps(item) + \"\\n\")\n",
    "\n",
    "print(\"Fine-tuning file saved: ocpoem_finetune_data.jsonl\")"
   ]
  },
  {
   "cell_type": "markdown",
   "id": "2416259c-fa47-4820-afe1-383aab2a64a3",
   "metadata": {},
   "source": [
    "**Upload the file to OpenAI**"
   ]
  },
  {
   "cell_type": "code",
   "execution_count": 32,
   "id": "c5d3914a-e2c8-481d-9275-e189835710a6",
   "metadata": {},
   "outputs": [],
   "source": [
    "client = openai.OpenAI(api_key=\"Your api key\")"
   ]
  },
  {
   "cell_type": "code",
   "execution_count": 34,
   "id": "9a27de58-d908-49e6-be21-3e4449296687",
   "metadata": {},
   "outputs": [
    {
     "name": "stdout",
     "output_type": "stream",
     "text": [
      "File uploaded. File ID: file-HzAqwSH7MwRd1k3fhcYbUf\n"
     ]
    }
   ],
   "source": [
    "with open(\"ocpoem_finetune_data.jsonl\", \"rb\") as f:\n",
    "    file = client.files.create(file=f, purpose=\"fine-tune\")\n",
    "\n",
    "print(\"File uploaded. File ID:\", file.id)"
   ]
  },
  {
   "cell_type": "markdown",
   "id": "ab5059b6-cd4b-4229-b161-0bad2fde831c",
   "metadata": {},
   "source": [
    "**Fine-tune GPT-3.5-Turbo**"
   ]
  },
  {
   "cell_type": "code",
   "execution_count": 35,
   "id": "7d71d969-1b07-417d-8784-a71134e252ea",
   "metadata": {},
   "outputs": [
    {
     "name": "stdout",
     "output_type": "stream",
     "text": [
      "Fine-tune job created. Job ID: ftjob-RoUd7fn1iAtUgvJr0Trd0v8J\n"
     ]
    }
   ],
   "source": [
    "job = client.fine_tuning.jobs.create(\n",
    "    training_file=file.id,\n",
    "    model=\"gpt-3.5-turbo\")\n",
    "\n",
    "print(\"Fine-tune job created. Job ID:\", job.id)"
   ]
  },
  {
   "cell_type": "code",
   "execution_count": 40,
   "id": "283286f4-2e5f-4037-a376-6f11446b44ea",
   "metadata": {},
   "outputs": [],
   "source": [
    "job_id=\"file-HzAqwSH7MwRd1k3fhcYbUf\""
   ]
  },
  {
   "cell_type": "code",
   "execution_count": 59,
   "id": "202f0b99-b568-42bd-bee4-6df97138d2bc",
   "metadata": {},
   "outputs": [
    {
     "name": "stdout",
     "output_type": "stream",
     "text": [
      "running\n"
     ]
    }
   ],
   "source": [
    "# Check status\n",
    "job_status = client.fine_tuning.jobs.retrieve(job.id)\n",
    "print(job_status.status)  # will show 'validating_files', 'queued', 'running', or 'succeeded'"
   ]
  },
  {
   "cell_type": "code",
   "execution_count": 96,
   "id": "b2e5ede4-4c42-4f87-ac60-a895b12d507e",
   "metadata": {},
   "outputs": [
    {
     "name": "stdout",
     "output_type": "stream",
     "text": [
      "Evaluating model against our usage policies\n",
      "New fine-tuned model created\n",
      "Checkpoint created at step 1958\n",
      "Checkpoint created at step 979\n",
      "Step 2937/2937: training loss=0.56\n",
      "Step 2936/2937: training loss=0.12\n",
      "Step 2935/2937: training loss=0.17\n",
      "Step 2934/2937: training loss=0.20\n",
      "Step 2933/2937: training loss=0.34\n",
      "Step 2932/2937: training loss=0.46\n",
      "Step 2931/2937: training loss=0.02\n",
      "Step 2930/2937: training loss=0.21\n",
      "Step 2929/2937: training loss=0.10\n",
      "Step 2928/2937: training loss=0.24\n",
      "Step 2927/2937: training loss=0.29\n",
      "Step 2926/2937: training loss=0.24\n",
      "Step 2925/2937: training loss=0.22\n",
      "Step 2924/2937: training loss=0.16\n",
      "Step 2923/2937: training loss=0.65\n",
      "Step 2922/2937: training loss=0.41\n"
     ]
    }
   ],
   "source": [
    "# Check events\n",
    "events = client.fine_tuning.jobs.list_events(job.id)\n",
    "for event in events.data:\n",
    "    print(event.message)"
   ]
  },
  {
   "cell_type": "code",
   "execution_count": 98,
   "id": "5327fa57-0638-4ca8-8109-f44ed4d4bbbe",
   "metadata": {},
   "outputs": [
    {
     "name": "stdout",
     "output_type": "stream",
     "text": [
      "succeeded\n"
     ]
    }
   ],
   "source": [
    "# Check status\n",
    "job_status = client.fine_tuning.jobs.retrieve(job.id)\n",
    "print(job_status.status) "
   ]
  },
  {
   "cell_type": "markdown",
   "id": "6affcd16-ff88-49ed-b8a3-2233a85c0633",
   "metadata": {},
   "source": [
    "**Submitted and started at 12:37 AM, 2937 steps, finished at 2:07 AM. Fine-tuning took about ~1 hour, 30 minutes**"
   ]
  },
  {
   "cell_type": "markdown",
   "id": "aecc3cf0-ee7a-486a-9e68-4827ca10d91b",
   "metadata": {},
   "source": [
    "**Save the model ID**"
   ]
  },
  {
   "cell_type": "code",
   "execution_count": 99,
   "id": "b73d3939-053b-46c8-9b5d-3e5567aecc4b",
   "metadata": {},
   "outputs": [
    {
     "name": "stdout",
     "output_type": "stream",
     "text": [
      "Job ID: ftjob-RoUd7fn1iAtUgvJr0Trd0v8J, Model: ft:gpt-3.5-turbo-0125:personal::C15qtfQm\n"
     ]
    }
   ],
   "source": [
    "jobs = client.fine_tuning.jobs.list(limit=5)\n",
    "for job in jobs.data:\n",
    "    print(f\"Job ID: {job.id}, Model: {job.fine_tuned_model}\")"
   ]
  },
  {
   "cell_type": "code",
   "execution_count": 100,
   "id": "5195c91d-4d37-4eff-80fb-5e71bf2a8096",
   "metadata": {},
   "outputs": [
    {
     "name": "stdout",
     "output_type": "stream",
     "text": [
      "Fine-tuned model ID: ft:gpt-3.5-turbo-0125:personal::C15qtfQm\n"
     ]
    }
   ],
   "source": [
    "fine_tuned_model_id = jobs.data[0].fine_tuned_model\n",
    "print(\"Fine-tuned model ID:\", fine_tuned_model_id)"
   ]
  }
 ],
 "metadata": {
  "kernelspec": {
   "display_name": "Python (tf_env)",
   "language": "python",
   "name": "tf_env"
  },
  "language_info": {
   "codemirror_mode": {
    "name": "ipython",
    "version": 3
   },
   "file_extension": ".py",
   "mimetype": "text/x-python",
   "name": "python",
   "nbconvert_exporter": "python",
   "pygments_lexer": "ipython3",
   "version": "3.11.13"
  }
 },
 "nbformat": 4,
 "nbformat_minor": 5
}
