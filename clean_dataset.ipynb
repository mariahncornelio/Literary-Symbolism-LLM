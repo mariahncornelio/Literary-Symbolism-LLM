{
 "cells": [
  {
   "cell_type": "markdown",
   "id": "2c285188-c37c-4b2d-bac7-8d8e2debf8d1",
   "metadata": {},
   "source": [
    "# **Pipeline to Clean the Curated Poem Dataset from Reddit's r/OCPoetry Thread**"
   ]
  },
  {
   "cell_type": "markdown",
   "id": "f60758b2-ff37-4b05-98c8-61cf1523dc7e",
   "metadata": {},
   "source": [
    "This specific subreddit contains rules that tell the user to critique and give feedback on 2 other poems in order to post their own. Because of this, there will be links and other comments within the body's text of the post. After taking a look at our raw dataset (ocpoetry_poems.csv), these are some things that I see that need cleaning or pre-processing:"
   ]
  },
  {
   "cell_type": "markdown",
   "id": "270f074d-10df-4eeb-b34e-8effa6772a4b",
   "metadata": {},
   "source": [
    "- Make sure that spaces are appropriate with no new line breaks\n",
    "- Apostrophe's are replaced with weird symbols that need to be cleaned out\n",
    "- URL links need to be removed\n",
    "- Brackets with number need to be cleaned out (no bracketed references like [1])\n",
    "- No numbers\n",
    "    - Find out what to do with years, because some poems have '96, referring to 1996\n",
    "- No semicolons or any symbols (:;/\"'#*&!?()[]-+, etc.) or any punctuation\n",
    "- Take out the word \"feedback\" in any of the body texts\n",
    "- Take out titles in the body text?\n",
    "    - Titles will look like this: * * Title * *\n",
    "- No languages other than English\n",
    "- Normalize everything (all lowercase, no punctuation)\n",
    "- Remove emptry entries or the ones that glitched and have 2 words or less than 35 characters"
   ]
  },
  {
   "cell_type": "markdown",
   "id": "5d2b8128-f3bb-46c6-991a-3246c6e542db",
   "metadata": {},
   "source": [
    "**Load in Dependencies**"
   ]
  },
  {
   "cell_type": "code",
   "execution_count": 6,
   "id": "d10f4621-a6b1-4eeb-9703-9819392df92e",
   "metadata": {},
   "outputs": [
    {
     "name": "stdout",
     "output_type": "stream",
     "text": [
      "Collecting langdetect\n",
      "  Downloading langdetect-1.0.9.tar.gz (981 kB)\n",
      "     ---------------------------------------- 0.0/981.5 kB ? eta -:--:--\n",
      "     -------------------------------------- 981.5/981.5 kB 9.2 MB/s eta 0:00:00\n",
      "  Preparing metadata (setup.py): started\n",
      "  Preparing metadata (setup.py): finished with status 'done'\n",
      "Requirement already satisfied: six in c:\\users\\marielle\\anaconda3\\envs\\tf_env\\lib\\site-packages (from langdetect) (1.17.0)\n",
      "Building wheels for collected packages: langdetect\n",
      "  Building wheel for langdetect (setup.py): started\n",
      "  Building wheel for langdetect (setup.py): finished with status 'done'\n",
      "  Created wheel for langdetect: filename=langdetect-1.0.9-py3-none-any.whl size=993364 sha256=452e5c0ee7bacc08325d17afe9c5f497f7f03deba4a9d6f525155261e6f173c0\n",
      "  Stored in directory: c:\\users\\marielle\\appdata\\local\\pip\\cache\\wheels\\0a\\f2\\b2\\e5ca405801e05eb7c8ed5b3b4bcf1fcabcd6272c167640072e\n",
      "Successfully built langdetect\n",
      "Installing collected packages: langdetect\n",
      "Successfully installed langdetect-1.0.9\n"
     ]
    },
    {
     "name": "stderr",
     "output_type": "stream",
     "text": [
      "  DEPRECATION: Building 'langdetect' using the legacy setup.py bdist_wheel mechanism, which will be removed in a future version. pip 25.3 will enforce this behaviour change. A possible replacement is to use the standardized build interface by setting the `--use-pep517` option, (possibly combined with `--no-build-isolation`), or adding a `pyproject.toml` file to the source tree of 'langdetect'. Discussion can be found at https://github.com/pypa/pip/issues/6334\n"
     ]
    }
   ],
   "source": [
    "# Language detector\n",
    "\n",
    "!pip install langdetect"
   ]
  },
  {
   "cell_type": "code",
   "execution_count": 21,
   "id": "bd6471db-f8ab-40d3-afd1-0edf708c7eb6",
   "metadata": {},
   "outputs": [],
   "source": [
    "import pandas as pd\n",
    "import re\n",
    "import html\n",
    "from langdetect import detect\n",
    "from langdetect.lang_detect_exception import LangDetectException\n",
    "import unicodedata"
   ]
  },
  {
   "cell_type": "code",
   "execution_count": 53,
   "id": "2dcd5043-3e68-431e-a5d4-7d05df6913b2",
   "metadata": {},
   "outputs": [],
   "source": [
    "df = pd.read_csv(\"C:/Users/Marielle/OneDrive/Desktop/LLM Project/ocpoetry_posts.csv\")"
   ]
  },
  {
   "cell_type": "code",
   "execution_count": 54,
   "id": "a92e6c7b-0a29-4f9b-8a31-0c1d3a06d2e5",
   "metadata": {},
   "outputs": [
    {
     "data": {
      "text/html": [
       "<div>\n",
       "<style scoped>\n",
       "    .dataframe tbody tr th:only-of-type {\n",
       "        vertical-align: middle;\n",
       "    }\n",
       "\n",
       "    .dataframe tbody tr th {\n",
       "        vertical-align: top;\n",
       "    }\n",
       "\n",
       "    .dataframe thead th {\n",
       "        text-align: right;\n",
       "    }\n",
       "</style>\n",
       "<table border=\"1\" class=\"dataframe\">\n",
       "  <thead>\n",
       "    <tr style=\"text-align: right;\">\n",
       "      <th></th>\n",
       "      <th>title</th>\n",
       "      <th>author</th>\n",
       "      <th>poem_text</th>\n",
       "    </tr>\n",
       "  </thead>\n",
       "  <tbody>\n",
       "    <tr>\n",
       "      <th>0</th>\n",
       "      <td>A Puddle's Whisper</td>\n",
       "      <td>PappaSmurfXIV</td>\n",
       "      <td>You fall into a puddle  of resentment and tear...</td>\n",
       "    </tr>\n",
       "    <tr>\n",
       "      <th>1</th>\n",
       "      <td>The Last Light</td>\n",
       "      <td>Potential-Walrus-885</td>\n",
       "      <td>7 months have come and gone  Time to pack my b...</td>\n",
       "    </tr>\n",
       "    <tr>\n",
       "      <th>2</th>\n",
       "      <td>While You Were in Japan</td>\n",
       "      <td>Dogdydaycare_</td>\n",
       "      <td>You were already waking up as I was crying mys...</td>\n",
       "    </tr>\n",
       "    <tr>\n",
       "      <th>3</th>\n",
       "      <td>Lost Girl</td>\n",
       "      <td>QueenofGreen79</td>\n",
       "      <td>Nobody knows about the girl who sits alone in ...</td>\n",
       "    </tr>\n",
       "    <tr>\n",
       "      <th>4</th>\n",
       "      <td>Night Shift</td>\n",
       "      <td>Cunt-huffer</td>\n",
       "      <td>Night Shift        Steel doors gasp rust‑b...</td>\n",
       "    </tr>\n",
       "  </tbody>\n",
       "</table>\n",
       "</div>"
      ],
      "text/plain": [
       "                     title                author  \\\n",
       "0       A Puddle's Whisper         PappaSmurfXIV   \n",
       "1           The Last Light  Potential-Walrus-885   \n",
       "2  While You Were in Japan         Dogdydaycare_   \n",
       "3                Lost Girl        QueenofGreen79   \n",
       "4              Night Shift           Cunt-huffer   \n",
       "\n",
       "                                           poem_text  \n",
       "0  You fall into a puddle  of resentment and tear...  \n",
       "1  7 months have come and gone  Time to pack my b...  \n",
       "2  You were already waking up as I was crying mys...  \n",
       "3  Nobody knows about the girl who sits alone in ...  \n",
       "4      Night Shift        Steel doors gasp rust‑b...  "
      ]
     },
     "execution_count": 54,
     "metadata": {},
     "output_type": "execute_result"
    }
   ],
   "source": [
    "df.head(5)"
   ]
  },
  {
   "cell_type": "code",
   "execution_count": 55,
   "id": "6a7192f9-cda6-4fac-9879-fefe4978307c",
   "metadata": {},
   "outputs": [
    {
     "data": {
      "text/plain": [
       "(989, 3)"
      ]
     },
     "execution_count": 55,
     "metadata": {},
     "output_type": "execute_result"
    }
   ],
   "source": [
    "df.shape # 989 poems"
   ]
  },
  {
   "cell_type": "markdown",
   "id": "a1bb3856-8821-4618-a1e9-b55f86baf41a",
   "metadata": {},
   "source": [
    "**Cleaning and Normalizing the Dataset**"
   ]
  },
  {
   "cell_type": "code",
   "execution_count": 56,
   "id": "fbc5beee-1c84-43b6-aa3f-94f72dfc8e8d",
   "metadata": {},
   "outputs": [],
   "source": [
    "# Functions\n",
    "\n",
    "def clean_text(text):\n",
    "    if pd.isna(text):\n",
    "        return \"\"\n",
    "        \n",
    "    # Normalize to lowercase\n",
    "    text = text.lower()\n",
    "    \n",
    "    # Fix common bad apostrophe/quote/dash unicode artifacts\n",
    "    text = text.replace(\"â€™\", \"'\").replace(\"’\", \"'\").replace(\"‘\", \"'\")\n",
    "    text = text.replace(\"“\", '\"').replace(\"”\", '\"')\n",
    "    text = text.replace(\"â€“\", \"-\").replace(\"â€”\", \"-\")\n",
    "    text = text.replace(\"â€œ\", '\"').replace(\"â€\", '\"')\n",
    "    text = text.replace(\"â€˜\", \"'\").replace(\"â€¢\", \"*\").replace(\"â€¦\", \"...\")\n",
    "    \n",
    "    # Normalize unicode characters and remove any non-ASCII characters\n",
    "    text = unicodedata.normalize(\"NFKD\", text).encode(\"ascii\", \"ignore\").decode(\"ascii\")\n",
    "    \n",
    "    # Remove URLs (http, https, www)\n",
    "    text = re.sub(r\"http\\S+|www\\.\\S+\", \"\", text)\n",
    "    \n",
    "    # Remove bracketed numbers like [1], [23]\n",
    "    text = re.sub(r\"\\[\\d+\\]\", \"\", text)\n",
    "    \n",
    "    # Remove titles formatted like **title**\n",
    "    text = re.sub(r\"\\*\\*[^*]+\\*\\*\", \"\", text)\n",
    "    \n",
    "    # Remove the word 'feedback' anywhere\n",
    "    text = re.sub(r\"\\bfeedback\\b\", \"\", text)\n",
    "    \n",
    "    # Remove the word 'link' anywhere\n",
    "    text = re.sub(r\"\\blink\\b\", \"\", text)\n",
    "    \n",
    "    # Remove unwanted stray symbols but keep useful punctuation for LLMs:\n",
    "    # Keep apostrophes, commas, periods, question marks, exclamation points, colons, semicolons, dashes, quotes\n",
    "    \n",
    "    # Remove other symbols like # * & ( ) [ ] + / \\ < > = ~ | ^ _ ` : etc.\n",
    "    text = re.sub(r\"[#*&()\\[\\]+/\\\\<>=~|^_`:]\", \"\", text)\n",
    "    \n",
    "    # Remove newlines and normalize whitespace\n",
    "    text = text.replace(\"\\n\", \" \").replace(\"\\r\", \" \")\n",
    "    text = re.sub(r\"\\s+\", \" \", text).strip()\n",
    "    \n",
    "    return text\n",
    "    \n",
    "def is_english(text):\n",
    "    try:\n",
    "        return detect(text) == \"en\"\n",
    "    except LangDetectException:\n",
    "        return False"
   ]
  },
  {
   "cell_type": "code",
   "execution_count": 57,
   "id": "172dfd8d-6346-4e94-ab56-bd2821a820f9",
   "metadata": {},
   "outputs": [],
   "source": [
    "# Application\n",
    "\n",
    "# Clean and filter\n",
    "df['cleaned'] = df['poem_text'].apply(clean_text)\n",
    "df = df[df['cleaned'].apply(is_english)]\n",
    "\n",
    "# Remove entries with less than 35 characters or two words or less\n",
    "df = df[df['cleaned'].str.len() >= 35]\n",
    "df = df[df['cleaned'].str.split().apply(len) > 2]\n",
    "\n",
    "# Reset index\n",
    "df = df.reset_index(drop=True)"
   ]
  },
  {
   "cell_type": "code",
   "execution_count": 58,
   "id": "c5144c6e-c077-4eba-8447-40292d3ea66b",
   "metadata": {},
   "outputs": [
    {
     "data": {
      "text/html": [
       "<div>\n",
       "<style scoped>\n",
       "    .dataframe tbody tr th:only-of-type {\n",
       "        vertical-align: middle;\n",
       "    }\n",
       "\n",
       "    .dataframe tbody tr th {\n",
       "        vertical-align: top;\n",
       "    }\n",
       "\n",
       "    .dataframe thead th {\n",
       "        text-align: right;\n",
       "    }\n",
       "</style>\n",
       "<table border=\"1\" class=\"dataframe\">\n",
       "  <thead>\n",
       "    <tr style=\"text-align: right;\">\n",
       "      <th></th>\n",
       "      <th>title</th>\n",
       "      <th>author</th>\n",
       "      <th>poem_text</th>\n",
       "      <th>cleaned</th>\n",
       "    </tr>\n",
       "  </thead>\n",
       "  <tbody>\n",
       "    <tr>\n",
       "      <th>0</th>\n",
       "      <td>A Puddle's Whisper</td>\n",
       "      <td>PappaSmurfXIV</td>\n",
       "      <td>You fall into a puddle  of resentment and tear...</td>\n",
       "      <td>you fall into a puddle of resentment and tears...</td>\n",
       "    </tr>\n",
       "    <tr>\n",
       "      <th>1</th>\n",
       "      <td>The Last Light</td>\n",
       "      <td>Potential-Walrus-885</td>\n",
       "      <td>7 months have come and gone  Time to pack my b...</td>\n",
       "      <td>7 months have come and gone time to pack my ba...</td>\n",
       "    </tr>\n",
       "    <tr>\n",
       "      <th>2</th>\n",
       "      <td>While You Were in Japan</td>\n",
       "      <td>Dogdydaycare_</td>\n",
       "      <td>You were already waking up as I was crying mys...</td>\n",
       "      <td>you were already waking up as i was crying mys...</td>\n",
       "    </tr>\n",
       "    <tr>\n",
       "      <th>3</th>\n",
       "      <td>Lost Girl</td>\n",
       "      <td>QueenofGreen79</td>\n",
       "      <td>Nobody knows about the girl who sits alone in ...</td>\n",
       "      <td>nobody knows about the girl who sits alone in ...</td>\n",
       "    </tr>\n",
       "    <tr>\n",
       "      <th>4</th>\n",
       "      <td>Night Shift</td>\n",
       "      <td>Cunt-huffer</td>\n",
       "      <td>Night Shift        Steel doors gasp rust‑b...</td>\n",
       "      <td>night shift steel doors gasp rustburned breath...</td>\n",
       "    </tr>\n",
       "  </tbody>\n",
       "</table>\n",
       "</div>"
      ],
      "text/plain": [
       "                     title                author  \\\n",
       "0       A Puddle's Whisper         PappaSmurfXIV   \n",
       "1           The Last Light  Potential-Walrus-885   \n",
       "2  While You Were in Japan         Dogdydaycare_   \n",
       "3                Lost Girl        QueenofGreen79   \n",
       "4              Night Shift           Cunt-huffer   \n",
       "\n",
       "                                           poem_text  \\\n",
       "0  You fall into a puddle  of resentment and tear...   \n",
       "1  7 months have come and gone  Time to pack my b...   \n",
       "2  You were already waking up as I was crying mys...   \n",
       "3  Nobody knows about the girl who sits alone in ...   \n",
       "4      Night Shift        Steel doors gasp rust‑b...   \n",
       "\n",
       "                                             cleaned  \n",
       "0  you fall into a puddle of resentment and tears...  \n",
       "1  7 months have come and gone time to pack my ba...  \n",
       "2  you were already waking up as i was crying mys...  \n",
       "3  nobody knows about the girl who sits alone in ...  \n",
       "4  night shift steel doors gasp rustburned breath...  "
      ]
     },
     "execution_count": 58,
     "metadata": {},
     "output_type": "execute_result"
    }
   ],
   "source": [
    "# Take a look at clean data\n",
    "\n",
    "df.head(5)"
   ]
  },
  {
   "cell_type": "code",
   "execution_count": 59,
   "id": "82fd8b37-1313-4b52-b1d8-a991d37bc713",
   "metadata": {},
   "outputs": [
    {
     "data": {
      "text/plain": [
       "(981, 4)"
      ]
     },
     "execution_count": 59,
     "metadata": {},
     "output_type": "execute_result"
    }
   ],
   "source": [
    "df.shape # Now 980 poems"
   ]
  },
  {
   "cell_type": "code",
   "execution_count": 60,
   "id": "d06cbb06-d58f-4104-8fe6-d30dd2b1283c",
   "metadata": {},
   "outputs": [],
   "source": [
    "# Save cleaned data frame\n",
    "\n",
    "df.to_csv(r\"C:\\Users\\Marielle\\OneDrive\\Desktop\\LLM Project\\ocpoetry_cleaned.csv\", index=False)"
   ]
  },
  {
   "cell_type": "markdown",
   "id": "66823bfd-39a2-4cd8-93cf-a78078efadc8",
   "metadata": {},
   "source": [
    "**Note:** After looking, please manually delete row 979 because it was not in English. After that is done, we are good to move onto the labeling using GPT 4.0!"
   ]
  }
 ],
 "metadata": {
  "kernelspec": {
   "display_name": "Python (tf_env)",
   "language": "python",
   "name": "tf_env"
  },
  "language_info": {
   "codemirror_mode": {
    "name": "ipython",
    "version": 3
   },
   "file_extension": ".py",
   "mimetype": "text/x-python",
   "name": "python",
   "nbconvert_exporter": "python",
   "pygments_lexer": "ipython3",
   "version": "3.11.13"
  }
 },
 "nbformat": 4,
 "nbformat_minor": 5
}
